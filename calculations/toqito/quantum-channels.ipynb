{
 "cells": [
  {
   "cell_type": "markdown",
   "source": [
    "# Quantum channels"
   ],
   "metadata": {
    "collapsed": false,
    "pycharm": {
     "name": "#%% md\n"
    }
   }
  },
  {
   "cell_type": "code",
   "execution_count": 10,
   "outputs": [
    {
     "data": {
      "text/plain": "<IPython.core.display.Latex object>",
      "text/latex": "$$\n\\rho = \n\n\\begin{bmatrix}\n1 & 0 & 0 & 0  \\\\\n 0 & 1 & 0 & 0  \\\\\n 0 & 0 & 1 & 0  \\\\\n 0 & 0 & 0 & 1  \\\\\n \\end{bmatrix}\n$$"
     },
     "execution_count": 10,
     "metadata": {},
     "output_type": "execute_result"
    }
   ],
   "source": [
    "from toqito.channel_ops import apply_channel\n",
    "from toqito.channels import depolarizing\n",
    "from qiskit.visualization import array_to_latex\n",
    "import numpy as np\n",
    "\n",
    "test_input_mat = np.array([[1 / 2, 0, 0, 1 / 2], [0, 0, 0, 0], [0, 0, 0, 0], [1 / 2, 0, 0, 1 / 2]])\n",
    "output_rho = apply_channel(test_input_mat, depolarizing(4,1))\n",
    "array_to_latex(output_rho, prefix=\"\\\\rho = \\n\")"
   ],
   "metadata": {
    "collapsed": false,
    "pycharm": {
     "name": "#%%\n"
    }
   }
  },
  {
   "cell_type": "code",
   "execution_count": 7,
   "outputs": [
    {
     "data": {
      "text/plain": "<IPython.core.display.Latex object>",
      "text/latex": "$$\n\\rho = \n\n\\begin{bmatrix}\n\\tfrac{1}{8} & 0 & 0 & -\\tfrac{1}{8}  \\\\\n 0 & 0 & 0 & 0  \\\\\n 0 & 0 & 0 & 0  \\\\\n -\\tfrac{1}{8} & 0 & 0 & \\tfrac{1}{8}  \\\\\n \\end{bmatrix}\n$$"
     },
     "execution_count": 7,
     "metadata": {},
     "output_type": "execute_result"
    }
   ],
   "source": [
    "output_rho = apply_channel(test_input_mat, depolarizing(4,0))\n",
    "array_to_latex(output_rho, prefix=\"\\\\rho = \\n\")"
   ],
   "metadata": {
    "collapsed": false,
    "pycharm": {
     "name": "#%%\n"
    }
   }
  },
  {
   "cell_type": "code",
   "execution_count": 8,
   "outputs": [
    {
     "data": {
      "text/plain": "<IPython.core.display.Latex object>",
      "text/latex": "$$\n\\rho = \n\n\\begin{bmatrix}\n0.78125 & 0 & 0 & -0.03125  \\\\\n 0 & \\tfrac{3}{4} & 0 & 0  \\\\\n 0 & 0 & \\tfrac{3}{4} & 0  \\\\\n -0.03125 & 0 & 0 & 0.78125  \\\\\n \\end{bmatrix}\n$$"
     },
     "execution_count": 8,
     "metadata": {},
     "output_type": "execute_result"
    }
   ],
   "source": [
    "output_rho = apply_channel(test_input_mat, depolarizing(4,3/4))\n",
    "array_to_latex(output_rho, prefix=\"\\\\rho = \\n\")"
   ],
   "metadata": {
    "collapsed": false,
    "pycharm": {
     "name": "#%%\n"
    }
   }
  }
 ],
 "metadata": {
  "kernelspec": {
   "display_name": "Python 3",
   "language": "python",
   "name": "python3"
  },
  "language_info": {
   "codemirror_mode": {
    "name": "ipython",
    "version": 2
   },
   "file_extension": ".py",
   "mimetype": "text/x-python",
   "name": "python",
   "nbconvert_exporter": "python",
   "pygments_lexer": "ipython2",
   "version": "2.7.6"
  }
 },
 "nbformat": 4,
 "nbformat_minor": 0
}