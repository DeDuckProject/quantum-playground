{
 "cells": [
  {
   "cell_type": "code",
   "execution_count": 36,
   "metadata": {
    "collapsed": true
   },
   "outputs": [
    {
     "data": {
      "text/plain": "<IPython.core.display.Latex object>",
      "text/latex": "$$\n|\\psi\\rangle\n\n\\begin{bmatrix}\n0  \\\\\n \\tfrac{1}{\\sqrt{2}}  \\\\\n \\tfrac{1}{\\sqrt{2}}  \\\\\n 0  \\\\\n \\end{bmatrix}\n$$"
     },
     "execution_count": 36,
     "metadata": {},
     "output_type": "execute_result"
    }
   ],
   "source": [
    "from toqito.channels import partial_trace\n",
    "from toqito.states import bell\n",
    "from qiskit.visualization import array_to_latex\n",
    "\n",
    "# Produce bell state:\n",
    "psi = bell(2)\n",
    "array_to_latex(psi, prefix=\"|\\\\psi\\\\rangle\\n\")"
   ]
  },
  {
   "cell_type": "code",
   "execution_count": 37,
   "outputs": [
    {
     "data": {
      "text/plain": "<IPython.core.display.Latex object>",
      "text/latex": "$$\n\\text{$\\rho$ = }\n\n\\begin{bmatrix}\n0 & 0 & 0 & 0  \\\\\n 0 & \\tfrac{1}{2} & \\tfrac{1}{2} & 0  \\\\\n 0 & \\tfrac{1}{2} & \\tfrac{1}{2} & 0  \\\\\n 0 & 0 & 0 & 0  \\\\\n \\end{bmatrix}\n$$"
     },
     "execution_count": 37,
     "metadata": {},
     "output_type": "execute_result"
    }
   ],
   "source": [
    "# produce density operator for psi\n",
    "rho = psi * psi.conj().T\n",
    "array_to_latex(rho, prefix=\"\\\\text{$\\\\rho$ = }\\n\")"
   ],
   "metadata": {
    "collapsed": false,
    "pycharm": {
     "name": "#%%\n"
    }
   }
  },
  {
   "cell_type": "code",
   "execution_count": 40,
   "outputs": [],
   "source": [
    "rho_A = partial_trace(rho,1)\n",
    "rho_B = partial_trace(rho,2)"
   ],
   "metadata": {
    "collapsed": false,
    "pycharm": {
     "name": "#%%\n"
    }
   }
  },
  {
   "cell_type": "code",
   "execution_count": 41,
   "outputs": [
    {
     "data": {
      "text/plain": "<IPython.core.display.Latex object>",
      "text/latex": "$$\n\\rho_A = \n\n\\begin{bmatrix}\n\\tfrac{1}{2} & 0  \\\\\n 0 & \\tfrac{1}{2}  \\\\\n \\end{bmatrix}\n$$"
     },
     "execution_count": 41,
     "metadata": {},
     "output_type": "execute_result"
    }
   ],
   "source": [
    "array_to_latex(rho_A, prefix=\"\\\\rho_A = \\n\")"
   ],
   "metadata": {
    "collapsed": false,
    "pycharm": {
     "name": "#%%\n"
    }
   }
  },
  {
   "cell_type": "code",
   "execution_count": 42,
   "outputs": [
    {
     "data": {
      "text/plain": "<IPython.core.display.Latex object>",
      "text/latex": "$$\n\\rho_B = \n\n\\begin{bmatrix}\n\\tfrac{1}{2} & 0  \\\\\n 0 & \\tfrac{1}{2}  \\\\\n \\end{bmatrix}\n$$"
     },
     "execution_count": 42,
     "metadata": {},
     "output_type": "execute_result"
    }
   ],
   "source": [
    "array_to_latex(rho_B, prefix=\"\\\\rho_B = \\n\")"
   ],
   "metadata": {
    "collapsed": false,
    "pycharm": {
     "name": "#%%\n"
    }
   }
  }
 ],
 "metadata": {
  "kernelspec": {
   "display_name": "Python 3",
   "language": "python",
   "name": "python3"
  },
  "language_info": {
   "codemirror_mode": {
    "name": "ipython",
    "version": 2
   },
   "file_extension": ".py",
   "mimetype": "text/x-python",
   "name": "python",
   "nbconvert_exporter": "python",
   "pygments_lexer": "ipython2",
   "version": "2.7.6"
  }
 },
 "nbformat": 4,
 "nbformat_minor": 0
}