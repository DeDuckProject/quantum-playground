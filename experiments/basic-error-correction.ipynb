{
 "cells": [
  {
   "cell_type": "markdown",
   "source": [
    "# Quantum error correction (basic example) - 3-qubit repetition code\n",
    "A simple repetition code based on paper by Asher Peres: [Reversible logic and quantum computers](https://journals.aps.org/pra/abstract/10.1103/PhysRevA.32.3266)"
   ],
   "metadata": {
    "collapsed": false,
    "pycharm": {
     "name": "#%% md\n"
    }
   }
  },
  {
   "cell_type": "code",
   "execution_count": null,
   "outputs": [],
   "source": [
    "! pip install pylatexenc\n",
    "! pip install qiskit"
   ],
   "metadata": {
    "collapsed": false,
    "pycharm": {
     "name": "#%%\n",
     "is_executing": true
    }
   }
  },
  {
   "cell_type": "code",
   "execution_count": null,
   "outputs": [],
   "source": [
    "# initialization\n",
    "# importing Qiskit\n",
    "from qiskit import IBMQ, Aer\n",
    "from qiskit.providers.ibmq import least_busy\n",
    "from qiskit import QuantumCircuit, assemble, transpile\n",
    "from qiskit import QuantumRegister, ClassicalRegister, QuantumCircuit\n",
    "\n",
    "# import basic plot tools\n",
    "from qiskit.visualization import plot_histogram\n",
    "import matplotlib.pyplot as plt\n",
    "import numpy as np\n",
    "\n",
    "n = 5"
   ],
   "metadata": {
    "collapsed": false,
    "pycharm": {
     "name": "#%%\n"
    }
   }
  },
  {
   "cell_type": "code",
   "execution_count": 55,
   "outputs": [],
   "source": [
    "def encode(circuit,logicalQubit, dup1, dup2):\n",
    "    circuit.cnot(logicalQubit,dup1)\n",
    "    circuit.cnot(logicalQubit,dup2)\n",
    "    circuit.barrier()\n",
    "\n",
    "# A naive, un-optimized, working implementation:\n",
    "def error_syndrome(circuit,q0,q1,q2,ancilla1,ancilla2):\n",
    "    circuit.barrier()\n",
    "    # Set ancilla s1 to equal 1 iff q0!=q1\n",
    "    circuit.cnot(q0,ancilla1)\n",
    "    circuit.cnot(q1,ancilla1)\n",
    "    # Set ancilla s2 to equal 1 iff q1!=q2\n",
    "    circuit.cnot(q1,ancilla2)\n",
    "    circuit.cnot(q2,ancilla2)\n",
    "    circuit.barrier()\n",
    "\n",
    "    # flip q0 if s1==1\n",
    "    circuit.cnot(ancilla1,q0)\n",
    "    # flip q2 if s2==1\n",
    "    circuit.cnot(ancilla2,q2)\n",
    "\n",
    "    # flip all if s1=s2=1 (basically reverses previous flips and flips q1)\n",
    "    circuit.toffoli(ancilla1,ancilla2,q0)\n",
    "    circuit.toffoli(ancilla1,ancilla2,q1)\n",
    "    circuit.toffoli(ancilla1,ancilla2,q2)\n",
    "\n",
    "def decode(circuit,logicalQubit, dup1, dup2):\n",
    "    circuit.barrier()\n",
    "    circuit.cnot(logicalQubit,dup2)\n",
    "    circuit.cnot(logicalQubit,dup1)\n",
    "\n",
    "# A better, optimized implementation.\n",
    "# Note: this should be used instead of both decode AND error_syndrome functions!\n",
    "def decode_optimize(circuit, logicalQubit, dup1, dup2):\n",
    "    circuit.barrier()\n",
    "    circuit.cnot(logicalQubit,dup1)\n",
    "    circuit.cnot(logicalQubit,dup2)\n",
    "    circuit.toffoli(dup1,dup2,logicalQubit)"
   ],
   "metadata": {
    "collapsed": false,
    "pycharm": {
     "name": "#%%\n"
    }
   }
  },
  {
   "cell_type": "code",
   "execution_count": 79,
   "outputs": [],
   "source": [
    "def generateCircuit(applyErrorCorrection = False, optimizedEC = True, mainCircuitLengthMultiple = 1, simulateErrors = []):\n",
    "    qreg_q = QuantumRegister(n, 'q')\n",
    "    creg_c = ClassicalRegister(n, 'c')\n",
    "    circuit = QuantumCircuit(qreg_q, creg_c)\n",
    "    if applyErrorCorrection:\n",
    "        encode(circuit,0,1,2)\n",
    "\n",
    "    # main circuit: should end where it started.\n",
    "    for i in range(0,mainCircuitLengthMultiple):\n",
    "        circuit.h(0)\n",
    "        circuit.t(0)\n",
    "        circuit.t(0)\n",
    "        circuit.t(0)\n",
    "        circuit.t(0)\n",
    "        circuit.t(0)\n",
    "        circuit.t(0)\n",
    "        circuit.t(0)\n",
    "        circuit.t(0)\n",
    "        circuit.h(0)\n",
    "\n",
    "    # simulate error (not needed in real HW since we have noise there already:\n",
    "    for i in simulateErrors:\n",
    "        circuit.x(i)\n",
    "\n",
    "    if applyErrorCorrection:\n",
    "        if optimizedEC:\n",
    "            decode_optimize(circuit,0,1,2)\n",
    "        else:\n",
    "            error_syndrome(circuit,0,1,2,3,4)\n",
    "            decode(circuit,0,1,2)\n",
    "\n",
    "    circuit.measure(qreg_q[0],creg_c[0])\n",
    "\n",
    "    circuit.draw('mpl')\n",
    "    return circuit"
   ],
   "metadata": {
    "collapsed": false,
    "pycharm": {
     "name": "#%%\n"
    }
   }
  },
  {
   "cell_type": "code",
   "execution_count": 130,
   "outputs": [],
   "source": [
    "def compute_error_rate(answers):\n",
    "    results = []\n",
    "    for answer in answers:\n",
    "        no_shots = sum(answer[y] for y in answer)\n",
    "        if '00001' in answer:\n",
    "            error_rate = answer['00001'] / no_shots\n",
    "        else:\n",
    "            error_rate = 0\n",
    "        results.append(error_rate)\n",
    "    return results"
   ],
   "metadata": {
    "collapsed": false,
    "pycharm": {
     "name": "#%%\n"
    }
   }
  },
  {
   "cell_type": "markdown",
   "source": [
    "## Testing circuits\n",
    "Here we make sure the different Error correcting codes actually correct 1 bit flip errors"
   ],
   "metadata": {
    "collapsed": false,
    "pycharm": {
     "name": "#%% md\n"
    }
   }
  },
  {
   "cell_type": "code",
   "execution_count": 131,
   "outputs": [],
   "source": [
    "# use local simulator\n",
    "aer_sim = Aer.get_backend('aer_simulator')\n",
    "shots = 1024\n",
    "\n",
    "testCircuits = []\n",
    "for i in range(0,3):\n",
    "    circuitTemp = generateCircuit(False, False, 1, [i])\n",
    "    testCircuits.append(circuitTemp)\n",
    "\n",
    "results = aer_sim.run(testCircuits, shots=shots).result()\n",
    "answer = results.get_counts()\n",
    "\n",
    "# circuit without EC should output 1\n",
    "assert (results.results[0].data.counts['0x1'] == 1024)\n",
    "# circuit with EC should output 0 when changing the repetition qubits (they are unused):\n",
    "assert (results.results[1].data.counts['0x0'] == 1024)\n",
    "assert (results.results[2].data.counts['0x0'] == 1024)\n",
    "\n",
    "testCircuits = []\n",
    "for i in range(0,3):\n",
    "    circuitTemp = generateCircuit(True, False, 1, [i])\n",
    "    testCircuits.append(circuitTemp)\n",
    "    circuitTemp = generateCircuit(True, True, 1, [i])\n",
    "    testCircuits.append(circuitTemp)\n",
    "\n",
    "results = aer_sim.run(testCircuits, shots=shots).result()\n",
    "answer = results.get_counts()\n",
    "\n",
    "# circuit with EC should output 0\n",
    "assert (results.results[0].data.counts['0x0'] == 1024)\n",
    "assert (results.results[1].data.counts['0x0'] == 1024)\n",
    "assert (results.results[2].data.counts['0x0'] == 1024)\n",
    "\n",
    "# circuit with other EC should output 0\n",
    "assert (results.results[0].data.counts['0x0'] == 1024)\n",
    "assert (results.results[1].data.counts['0x0'] == 1024)\n",
    "assert (results.results[2].data.counts['0x0'] == 1024)"
   ],
   "metadata": {
    "collapsed": false,
    "pycharm": {
     "name": "#%%\n"
    }
   }
  },
  {
   "cell_type": "code",
   "execution_count": 157,
   "outputs": [],
   "source": [
    "n_depth = 10\n",
    "circuits = []\n",
    "depth_vec = range(1,n_depth)\n",
    "for i in depth_vec:\n",
    "    circuitTemp = generateCircuit(False, False, i)\n",
    "    circuits.append(circuitTemp)\n",
    "for i in depth_vec:\n",
    "    circuitTemp = generateCircuit(True, False, i)\n",
    "    circuits.append(circuitTemp)\n",
    "for i in depth_vec:\n",
    "    circuitTemp = generateCircuit(True, True, i)\n",
    "    circuits.append(circuitTemp)"
   ],
   "metadata": {
    "collapsed": false,
    "pycharm": {
     "name": "#%%\n"
    }
   }
  },
  {
   "cell_type": "code",
   "execution_count": 121,
   "outputs": [
    {
     "data": {
      "text/plain": "<Figure size 748.797x385.28 with 1 Axes>",
      "image/png": "[encoded data removed]"
     },
     "execution_count": 121,
     "metadata": {},
     "output_type": "execute_result"
    }
   ],
   "source": [
    "circuits[0].draw('mpl')"
   ],
   "metadata": {
    "collapsed": false,
    "pycharm": {
     "name": "#%%\n"
    }
   }
  },
  {
   "cell_type": "code",
   "execution_count": 158,
   "outputs": [
    {
     "data": {
      "text/plain": "<Figure size 504x360 with 1 Axes>",
      "image/png": "[encoded data removed]"
     },
     "execution_count": 158,
     "metadata": {},
     "output_type": "execute_result"
    }
   ],
   "source": [
    "# use local simulator\n",
    "aer_sim = Aer.get_backend('aer_simulator')\n",
    "shots = 1024\n",
    "# shots = 1000000 # max shots\n",
    "results = aer_sim.run(circuits, shots=shots).result()\n",
    "answer = results.get_counts()\n",
    "\n",
    "plot_histogram(answer)"
   ],
   "metadata": {
    "collapsed": false,
    "pycharm": {
     "name": "#%%\n"
    }
   }
  },
  {
   "cell_type": "code",
   "execution_count": null,
   "outputs": [],
   "source": [
    "# Load our saved IBMQ accounts and get the least busy backend device with greater than or equal to (n+1) qubits\n",
    "IBMQ.load_account()\n",
    "provider = IBMQ.get_provider(hub='ibm-q')\n",
    "backend = least_busy(provider.backends(filters=lambda x: x.configuration().n_qubits >= (n) and\n",
    "                                                         not x.configuration().simulator and x.status().operational==True))\n",
    "print(\"least busy backend: \", backend)"
   ],
   "metadata": {
    "collapsed": false,
    "pycharm": {
     "name": "#%%\n",
     "is_executing": true
    }
   }
  },
  {
   "cell_type": "code",
   "execution_count": 160,
   "outputs": [
    {
     "name": "stdout",
     "output_type": "stream",
     "text": [
      "Job Status: job has successfully run\n"
     ]
    }
   ],
   "source": [
    "# Run our circuit on the least busy backend. Monitor the execution of the job in the queue\n",
    "from qiskit.tools.monitor import job_monitor\n",
    "\n",
    "shots = 20000\n",
    "transpiled_circuits = transpile(circuits, backend, optimization_level=0)\n",
    "job = backend.run(transpiled_circuits)\n",
    "job_monitor(job, interval=2)"
   ],
   "metadata": {
    "collapsed": false,
    "pycharm": {
     "name": "#%%\n"
    }
   }
  },
  {
   "cell_type": "code",
   "execution_count": 161,
   "outputs": [],
   "source": [
    "results_real = job.result()\n",
    "length_vec = n_depth-1\n",
    "\n",
    "no_qec = compute_error_rate(np.array(results.get_counts()[0:length_vec]))\n",
    "qec_naive = compute_error_rate(np.array(results.get_counts()[length_vec:length_vec*2]))\n",
    "qec_opt = compute_error_rate(np.array(results.get_counts()[length_vec*2:length_vec*3]))\n",
    "\n",
    "no_qec_real = compute_error_rate(np.array(results_real.get_counts()[0:length_vec]))\n",
    "qec_naive_real = compute_error_rate(np.array(results_real.get_counts()[length_vec:length_vec*2]))\n",
    "qec_opt_real = compute_error_rate(np.array(results_real.get_counts()[length_vec*2:length_vec*3]))"
   ],
   "metadata": {
    "collapsed": false,
    "pycharm": {
     "name": "#%%\n"
    }
   }
  },
  {
   "cell_type": "code",
   "execution_count": 162,
   "outputs": [
    {
     "data": {
      "text/plain": "<matplotlib.legend.Legend at 0x7f8c5923ceb0>"
     },
     "execution_count": 162,
     "metadata": {},
     "output_type": "execute_result"
    },
    {
     "data": {
      "text/plain": "<Figure size 864x576 with 1 Axes>",
      "image/png": "[encoded data removed]"
     },
     "metadata": {
      "needs_background": "light"
     },
     "output_type": "display_data"
    }
   ],
   "source": [
    "import math\n",
    "\n",
    "plt.figure(figsize=(12,8))\n",
    "plt.rcParams.update({'font.size': 22})\n",
    "plt.plot(depth_vec, no_qec, 'o-', label ='No EC - Noiseless (simulation)')\n",
    "# plt.plot(depth_vec, qec_naive, 'o-', label ='Noiseless (simulation)')\n",
    "# plt.plot(depth_vec, qec_opt, 'o-', label ='Noiseless (simulation)')\n",
    "\n",
    "plt.plot(depth_vec, no_qec_real, 'o-', label ='No EC - real device')\n",
    "plt.plot(depth_vec, qec_naive_real, 'o-', label ='naive EC - real device')\n",
    "plt.plot(depth_vec, qec_opt_real, 'o-', label ='optimized EC - real device')\n",
    "\n",
    "plt.grid(which='major',axis='both')\n",
    "plt.rcParams.update({'font.size': 16})\n",
    "plt.legend()\n",
    "\n",
    "# plt.xlabel('Theta between chosen bases (radians)')\n",
    "# plt.ylabel('Probability for same outcome for both qubits')"
   ],
   "metadata": {
    "collapsed": false,
    "pycharm": {
     "name": "#%%\n"
    }
   }
  },
  {
   "cell_type": "code",
   "execution_count": null,
   "outputs": [],
   "source": [],
   "metadata": {
    "collapsed": false,
    "pycharm": {
     "name": "#%%\n"
    }
   }
  }
 ],
 "metadata": {
  "kernelspec": {
   "display_name": "Python 3",
   "language": "python",
   "name": "python3"
  },
  "language_info": {
   "codemirror_mode": {
    "name": "ipython",
    "version": 2
   },
   "file_extension": ".py",
   "mimetype": "text/x-python",
   "name": "python",
   "nbconvert_exporter": "python",
   "pygments_lexer": "ipython2",
   "version": "2.7.6"
  }
 },
 "nbformat": 4,
 "nbformat_minor": 0
}