{
 "cells": [
  {
   "cell_type": "code",
   "execution_count": null,
   "outputs": [],
   "source": [
    "! pip install pylatexenc\n",
    "! pip install qiskit"
   ],
   "metadata": {
    "collapsed": false,
    "pycharm": {
     "name": "#%%\n",
     "is_executing": true
    }
   }
  },
  {
   "cell_type": "code",
   "execution_count": 1,
   "outputs": [],
   "source": [
    "# initialization\n",
    "import numpy as np\n",
    "from numpy import pi\n",
    "\n",
    "# importing Qiskit\n",
    "from qiskit import IBMQ, Aer\n",
    "from qiskit.providers.ibmq import least_busy\n",
    "from qiskit import QuantumCircuit, assemble, transpile\n",
    "# from ibm_quantum_widgets import CircuitComposer\n",
    "from qiskit import QuantumRegister, ClassicalRegister, QuantumCircuit\n",
    "from qiskit.tools.visualization import circuit_drawer\n",
    "\n",
    "# import basic plot tools\n",
    "from qiskit.visualization import plot_histogram\n",
    "\n",
    "from qiskit.quantum_info import Statevector"
   ],
   "metadata": {
    "collapsed": false,
    "pycharm": {
     "name": "#%%\n"
    }
   }
  },
  {
   "cell_type": "code",
   "execution_count": 33,
   "outputs": [],
   "source": [
    "def encode(circuit,logicalQubit, dup1, dup2):\n",
    "    circuit.cnot(logicalQubit,dup1)\n",
    "    circuit.cnot(logicalQubit,dup2)\n",
    "    circuit.barrier()\n",
    "\n",
    "def error_syndrome(circuit,q0,q1,q2,ancilla1,ancilla2):\n",
    "    circuit.barrier()\n",
    "    # Set ancilla s1 to equal 1 iff q0!=q1\n",
    "    circuit.cnot(q0,ancilla1)\n",
    "    circuit.cnot(q1,ancilla1)\n",
    "    # Set ancilla s2 to equal 1 iff q1!=q2\n",
    "    circuit.cnot(q1,ancilla2)\n",
    "    circuit.cnot(q2,ancilla2)\n",
    "    circuit.barrier()\n",
    "\n",
    "    # flip q0 if s1==1\n",
    "    circuit.cnot(ancilla1,q0)\n",
    "    # flip q2 if s2==1\n",
    "    circuit.cnot(ancilla2,q2)\n",
    "\n",
    "    # flip all if s1=s2=1 (basically reverses previous flips and flips q1)\n",
    "    circuit.toffoli(ancilla1,ancilla2,q0)\n",
    "    circuit.toffoli(ancilla1,ancilla2,q1)\n",
    "    circuit.toffoli(ancilla1,ancilla2,q2)\n",
    "\n",
    "def decode(circuit,logicalQubit, dup1, dup2):\n",
    "    circuit.barrier()\n",
    "    circuit.cnot(logicalQubit,dup2)\n",
    "    circuit.cnot(logicalQubit,dup1)\n",
    "\n",
    "def decode_optimize(circuit,logicalQubit, dup1, dup2):\n",
    "    circuit.barrier()\n",
    "    circuit.cnot(logicalQubit,dup1)\n",
    "    circuit.cnot(logicalQubit,dup2)\n",
    "    circuit.toffoli(dup1,dup2,logicalQubit)"
   ],
   "metadata": {
    "collapsed": false,
    "pycharm": {
     "name": "#%%\n"
    }
   }
  },
  {
   "cell_type": "code",
   "execution_count": 46,
   "outputs": [
    {
     "data": {
      "text/plain": "<Figure size 748.797x385.28 with 1 Axes>",
      "image/png": "[encoded data removed]"
     },
     "execution_count": 46,
     "metadata": {},
     "output_type": "execute_result"
    }
   ],
   "source": [
    "# Different measurements\n",
    "n = 5\n",
    "qreg_q = QuantumRegister(n, 'q')\n",
    "creg_c = ClassicalRegister(n, 'c')\n",
    "circuit = QuantumCircuit(qreg_q, creg_c)\n",
    "runWithEC = False\n",
    "if runWithEC:\n",
    "    encode(circuit,0,1,2)\n",
    "\n",
    "# main circuit: should end where it started.\n",
    "circuit.h(0)\n",
    "circuit.t(0)\n",
    "circuit.t(0)\n",
    "circuit.t(0)\n",
    "circuit.t(0)\n",
    "circuit.t(0)\n",
    "circuit.t(0)\n",
    "circuit.t(0)\n",
    "circuit.t(0)\n",
    "circuit.h(0)\n",
    "\n",
    "# simulate error (not needed in real HW since we have noise there already:\n",
    "# circuit.x(0)\n",
    "\n",
    "if runWithEC:\n",
    "    # error_syndrome(circuit,0,1,2,3,4)\n",
    "    # decode(circuit,0,1,2)\n",
    "    decode_optimize(circuit,0,1,2)\n",
    "\n",
    "circuit.measure(qreg_q[0],creg_c[0])\n",
    "\n",
    "circuit.draw('mpl')"
   ],
   "metadata": {
    "collapsed": false,
    "pycharm": {
     "name": "#%%\n"
    }
   }
  },
  {
   "cell_type": "code",
   "execution_count": 47,
   "outputs": [
    {
     "data": {
      "text/plain": "<Figure size 504x360 with 1 Axes>",
      "image/png": "[encoded data removed]"
     },
     "execution_count": 47,
     "metadata": {},
     "output_type": "execute_result"
    }
   ],
   "source": [
    "# use local simulator\n",
    "aer_sim = Aer.get_backend('aer_simulator')\n",
    "shots = 1024\n",
    "# shots = 1000000 # max shots\n",
    "results = aer_sim.run(circuit, shots=shots).result()\n",
    "answer = results.get_counts()\n",
    "\n",
    "plot_histogram(answer)"
   ],
   "metadata": {
    "collapsed": false,
    "pycharm": {
     "name": "#%%\n"
    }
   }
  },
  {
   "cell_type": "raw",
   "source": [
    "Run on real device:"
   ],
   "metadata": {
    "collapsed": false,
    "pycharm": {
     "name": "#%% raw\n"
    }
   }
  },
  {
   "cell_type": "code",
   "execution_count": 48,
   "outputs": [
    {
     "name": "stderr",
     "output_type": "stream",
     "text": [
      "ibmqfactory.load_account:WARNING:2022-03-21 22:10:52,701: Credentials are already in use. The existing account in the session will be replaced.\n"
     ]
    },
    {
     "name": "stdout",
     "output_type": "stream",
     "text": [
      "least busy backend:  ibmq_quito\n"
     ]
    }
   ],
   "source": [
    "# Load our saved IBMQ accounts and get the least busy backend device with greater than or equal to (n+1) qubits\n",
    "IBMQ.load_account()\n",
    "provider = IBMQ.get_provider(hub='ibm-q')\n",
    "backend = least_busy(provider.backends(filters=lambda x: x.configuration().n_qubits >= (n) and\n",
    "                                                         not x.configuration().simulator and x.status().operational==True))\n",
    "print(\"least busy backend: \", backend)"
   ],
   "metadata": {
    "collapsed": false,
    "pycharm": {
     "name": "#%%\n"
    }
   }
  },
  {
   "cell_type": "code",
   "execution_count": 49,
   "outputs": [
    {
     "name": "stdout",
     "output_type": "stream",
     "text": [
      "Job Status: job has successfully run\n"
     ]
    }
   ],
   "source": [
    "# Run our circuit on the least busy backend. Monitor the execution of the job in the queue\n",
    "from qiskit.tools.monitor import job_monitor\n",
    "\n",
    "shots = 20000\n",
    "transpiled_circuit = transpile(circuit, backend, optimization_level=0)\n",
    "job = backend.run(transpiled_circuit)\n",
    "job_monitor(job, interval=2)"
   ],
   "metadata": {
    "collapsed": false,
    "pycharm": {
     "name": "#%%\n"
    }
   }
  }
 ],
 "metadata": {
  "kernelspec": {
   "display_name": "Python 3",
   "language": "python",
   "name": "python3"
  },
  "language_info": {
   "codemirror_mode": {
    "name": "ipython",
    "version": 2
   },
   "file_extension": ".py",
   "mimetype": "text/x-python",
   "name": "python",
   "nbconvert_exporter": "python",
   "pygments_lexer": "ipython2",
   "version": "2.7.6"
  }
 },
 "nbformat": 4,
 "nbformat_minor": 0
}