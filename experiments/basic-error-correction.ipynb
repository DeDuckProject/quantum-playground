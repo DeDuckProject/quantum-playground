{
 "cells": [
  {
   "cell_type": "markdown",
   "source": [
    "# Quantum error correction (basic example) - 3-qubit repetition code\n",
    "A simple repetition code based on paper by Asher Peres: [Reversible logic and quantum computers](https://journals.aps.org/pra/abstract/10.1103/PhysRevA.32.3266)"
   ],
   "metadata": {
    "collapsed": false,
    "pycharm": {
     "name": "#%% md\n"
    }
   }
  },
  {
   "cell_type": "code",
   "execution_count": null,
   "outputs": [],
   "source": [
    "! pip install pylatexenc\n",
    "! pip install qiskit"
   ],
   "metadata": {
    "collapsed": false,
    "pycharm": {
     "name": "#%%\n",
     "is_executing": true
    }
   }
  },
  {
   "cell_type": "code",
   "execution_count": null,
   "outputs": [],
   "source": [
    "# initialization\n",
    "# importing Qiskit\n",
    "from qiskit import IBMQ, Aer\n",
    "from qiskit.providers.ibmq import least_busy\n",
    "from qiskit import QuantumCircuit, assemble, transpile\n",
    "from qiskit import QuantumRegister, ClassicalRegister, QuantumCircuit\n",
    "\n",
    "# import basic plot tools\n",
    "from qiskit.visualization import plot_histogram\n",
    "import matplotlib.pyplot as plt\n",
    "import numpy as np\n",
    "\n",
    "n = 5"
   ],
   "metadata": {
    "collapsed": false,
    "pycharm": {
     "name": "#%%\n"
    }
   }
  },
  {
   "cell_type": "code",
   "execution_count": 55,
   "outputs": [],
   "source": [
    "def encode(circuit,logicalQubit, dup1, dup2):\n",
    "    circuit.cnot(logicalQubit,dup1)\n",
    "    circuit.cnot(logicalQubit,dup2)\n",
    "    circuit.barrier()\n",
    "\n",
    "# A naive, un-optimized, working implementation:\n",
    "def error_syndrome(circuit,q0,q1,q2,ancilla1,ancilla2):\n",
    "    circuit.barrier()\n",
    "    # Set ancilla s1 to equal 1 iff q0!=q1\n",
    "    circuit.cnot(q0,ancilla1)\n",
    "    circuit.cnot(q1,ancilla1)\n",
    "    # Set ancilla s2 to equal 1 iff q1!=q2\n",
    "    circuit.cnot(q1,ancilla2)\n",
    "    circuit.cnot(q2,ancilla2)\n",
    "    circuit.barrier()\n",
    "\n",
    "    # flip q0 if s1==1\n",
    "    circuit.cnot(ancilla1,q0)\n",
    "    # flip q2 if s2==1\n",
    "    circuit.cnot(ancilla2,q2)\n",
    "\n",
    "    # flip all if s1=s2=1 (basically reverses previous flips and flips q1)\n",
    "    circuit.toffoli(ancilla1,ancilla2,q0)\n",
    "    circuit.toffoli(ancilla1,ancilla2,q1)\n",
    "    circuit.toffoli(ancilla1,ancilla2,q2)\n",
    "\n",
    "def decode(circuit,logicalQubit, dup1, dup2):\n",
    "    circuit.barrier()\n",
    "    circuit.cnot(logicalQubit,dup2)\n",
    "    circuit.cnot(logicalQubit,dup1)\n",
    "\n",
    "# A better, optimized implementation.\n",
    "# Note: this should be used instead of both decode AND error_syndrome functions!\n",
    "def decode_optimize(circuit, logicalQubit, dup1, dup2):\n",
    "    circuit.barrier()\n",
    "    circuit.cnot(logicalQubit,dup1)\n",
    "    circuit.cnot(logicalQubit,dup2)\n",
    "    circuit.toffoli(dup1,dup2,logicalQubit)"
   ],
   "metadata": {
    "collapsed": false,
    "pycharm": {
     "name": "#%%\n"
    }
   }
  },
  {
   "cell_type": "code",
   "execution_count": 79,
   "outputs": [],
   "source": [
    "def generateCircuit(applyErrorCorrection = False, optimizedEC = True, mainCircuitLengthMultiple = 1, simulateErrors = []):\n",
    "    qreg_q = QuantumRegister(n, 'q')\n",
    "    creg_c = ClassicalRegister(n, 'c')\n",
    "    circuit = QuantumCircuit(qreg_q, creg_c)\n",
    "    if applyErrorCorrection:\n",
    "        encode(circuit,0,1,2)\n",
    "\n",
    "    # main circuit: should end where it started.\n",
    "    for i in range(0,mainCircuitLengthMultiple):\n",
    "        circuit.h(0)\n",
    "        circuit.t(0)\n",
    "        circuit.t(0)\n",
    "        circuit.t(0)\n",
    "        circuit.t(0)\n",
    "        circuit.t(0)\n",
    "        circuit.t(0)\n",
    "        circuit.t(0)\n",
    "        circuit.t(0)\n",
    "        circuit.h(0)\n",
    "\n",
    "    # simulate error (not needed in real HW since we have noise there already:\n",
    "    for i in simulateErrors:\n",
    "        circuit.x(i)\n",
    "\n",
    "    if applyErrorCorrection:\n",
    "        if optimizedEC:\n",
    "            decode_optimize(circuit,0,1,2)\n",
    "        else:\n",
    "            error_syndrome(circuit,0,1,2,3,4)\n",
    "            decode(circuit,0,1,2)\n",
    "\n",
    "    circuit.measure(qreg_q[0],creg_c[0])\n",
    "\n",
    "    circuit.draw('mpl')\n",
    "    return circuit"
   ],
   "metadata": {
    "collapsed": false,
    "pycharm": {
     "name": "#%%\n"
    }
   }
  },
  {
   "cell_type": "code",
   "execution_count": 130,
   "outputs": [],
   "source": [
    "def compute_error_rate(answers):\n",
    "    results = []\n",
    "    for answer in answers:\n",
    "        no_shots = sum(answer[y] for y in answer)\n",
    "        if '00001' in answer:\n",
    "            error_rate = answer['00001'] / no_shots\n",
    "        else:\n",
    "            error_rate = 0\n",
    "        results.append(error_rate)\n",
    "    return results"
   ],
   "metadata": {
    "collapsed": false,
    "pycharm": {
     "name": "#%%\n"
    }
   }
  },
  {
   "cell_type": "markdown",
   "source": [
    "## Testing circuits\n",
    "Here we make sure the different Error correcting codes actually correct 1 bit flip errors"
   ],
   "metadata": {
    "collapsed": false,
    "pycharm": {
     "name": "#%% md\n"
    }
   }
  },
  {
   "cell_type": "code",
   "execution_count": 131,
   "outputs": [],
   "source": [
    "# use local simulator\n",
    "aer_sim = Aer.get_backend('aer_simulator')\n",
    "shots = 1024\n",
    "\n",
    "testCircuits = []\n",
    "for i in range(0,3):\n",
    "    circuitTemp = generateCircuit(False, False, 1, [i])\n",
    "    testCircuits.append(circuitTemp)\n",
    "\n",
    "results = aer_sim.run(testCircuits, shots=shots).result()\n",
    "answer = results.get_counts()\n",
    "\n",
    "# circuit without EC should output 1\n",
    "assert (results.results[0].data.counts['0x1'] == 1024)\n",
    "# circuit with EC should output 0 when changing the repetition qubits (they are unused):\n",
    "assert (results.results[1].data.counts['0x0'] == 1024)\n",
    "assert (results.results[2].data.counts['0x0'] == 1024)\n",
    "\n",
    "testCircuits = []\n",
    "for i in range(0,3):\n",
    "    circuitTemp = generateCircuit(True, False, 1, [i])\n",
    "    testCircuits.append(circuitTemp)\n",
    "    circuitTemp = generateCircuit(True, True, 1, [i])\n",
    "    testCircuits.append(circuitTemp)\n",
    "\n",
    "results = aer_sim.run(testCircuits, shots=shots).result()\n",
    "answer = results.get_counts()\n",
    "\n",
    "# circuit with EC should output 0\n",
    "assert (results.results[0].data.counts['0x0'] == 1024)\n",
    "assert (results.results[1].data.counts['0x0'] == 1024)\n",
    "assert (results.results[2].data.counts['0x0'] == 1024)\n",
    "\n",
    "# circuit with other EC should output 0\n",
    "assert (results.results[0].data.counts['0x0'] == 1024)\n",
    "assert (results.results[1].data.counts['0x0'] == 1024)\n",
    "assert (results.results[2].data.counts['0x0'] == 1024)"
   ],
   "metadata": {
    "collapsed": false,
    "pycharm": {
     "name": "#%%\n"
    }
   }
  },
  {
   "cell_type": "code",
   "execution_count": 132,
   "outputs": [],
   "source": [
    "n_depth = 5\n",
    "circuits = []\n",
    "depth_vec = range(1,n_depth)\n",
    "for i in depth_vec:\n",
    "    circuitTemp = generateCircuit(False, False, i)\n",
    "    circuits.append(circuitTemp)\n",
    "for i in depth_vec:\n",
    "    circuitTemp = generateCircuit(True, False, i)\n",
    "    circuits.append(circuitTemp)\n",
    "for i in depth_vec:\n",
    "    circuitTemp = generateCircuit(True, True, i)\n",
    "    circuits.append(circuitTemp)"
   ],
   "metadata": {
    "collapsed": false,
    "pycharm": {
     "name": "#%%\n"
    }
   }
  },
  {
   "cell_type": "code",
   "execution_count": 121,
   "outputs": [
    {
     "data": {
      "text/plain": "<Figure size 748.797x385.28 with 1 Axes>",
      "image/png": "[encoded data removed]"
     },
     "execution_count": 121,
     "metadata": {},
     "output_type": "execute_result"
    }
   ],
   "source": [
    "circuits[0].draw('mpl')"
   ],
   "metadata": {
    "collapsed": false,
    "pycharm": {
     "name": "#%%\n"
    }
   }
  },
  {
   "cell_type": "code",
   "execution_count": 133,
   "outputs": [
    {
     "data": {
      "text/plain": "<Figure size 504x360 with 1 Axes>",
      "image/png": "[encoded data removed]"
     },
     "execution_count": 133,
     "metadata": {},
     "output_type": "execute_result"
    }
   ],
   "source": [
    "# use local simulator\n",
    "aer_sim = Aer.get_backend('aer_simulator')\n",
    "shots = 1024\n",
    "# shots = 1000000 # max shots\n",
    "results = aer_sim.run(circuits, shots=shots).result()\n",
    "answer = results.get_counts()\n",
    "\n",
    "plot_histogram(answer)"
   ],
   "metadata": {
    "collapsed": false,
    "pycharm": {
     "name": "#%%\n"
    }
   }
  },
  {
   "cell_type": "code",
   "execution_count": 141,
   "outputs": [
    {
     "name": "stderr",
     "output_type": "stream",
     "text": [
      "ibmqfactory.load_account:WARNING:2022-03-23 22:52:03,720: Credentials are already in use. The existing account in the session will be replaced.\n"
     ]
    },
    {
     "name": "stdout",
     "output_type": "stream",
     "text": [
      "least busy backend:  ibmq_santiago\n"
     ]
    }
   ],
   "source": [
    "# Load our saved IBMQ accounts and get the least busy backend device with greater than or equal to (n+1) qubits\n",
    "IBMQ.load_account()\n",
    "provider = IBMQ.get_provider(hub='ibm-q')\n",
    "backend = least_busy(provider.backends(filters=lambda x: x.configuration().n_qubits >= (n) and\n",
    "                                                         not x.configuration().simulator and x.status().operational==True))\n",
    "print(\"least busy backend: \", backend)"
   ],
   "metadata": {
    "collapsed": false,
    "pycharm": {
     "name": "#%%\n"
    }
   }
  },
  {
   "cell_type": "code",
   "execution_count": null,
   "outputs": [
    {
     "name": "stdout",
     "output_type": "stream",
     "text": [
      "Job Status: job is queued (4)     "
     ]
    }
   ],
   "source": [
    "# Run our circuit on the least busy backend. Monitor the execution of the job in the queue\n",
    "from qiskit.tools.monitor import job_monitor\n",
    "\n",
    "shots = 20000\n",
    "transpiled_circuits = transpile(circuits, backend, optimization_level=0)\n",
    "job = backend.run(transpiled_circuits)\n",
    "job_monitor(job, interval=2)"
   ],
   "metadata": {
    "collapsed": false,
    "pycharm": {
     "name": "#%%\n",
     "is_executing": true
    }
   }
  },
  {
   "cell_type": "code",
   "execution_count": null,
   "outputs": [],
   "source": [
    "results_real = job.result()"
   ],
   "metadata": {
    "collapsed": false,
    "pycharm": {
     "name": "#%%\n"
    }
   }
  },
  {
   "cell_type": "code",
   "execution_count": 138,
   "outputs": [],
   "source": [
    "no_qec = compute_error_rate(np.array(results.get_counts()[0:n_depth-1]))\n",
    "qec_naive = compute_error_rate(np.array(results.get_counts()[n_depth-1:n_depth*2-1]))\n",
    "qec_opt = compute_error_rate(np.array(results.get_counts()[n_depth*2-1:n_depth*3-1]))\n",
    "\n",
    "no_qec_real = compute_error_rate(np.array(results_real.get_counts()[0:n_depth-1]))\n",
    "qec_naive_real = compute_error_rate(np.array(results_real.get_counts()[n_depth-1:n_depth*2-1]))\n",
    "qec_opt_real = compute_error_rate(np.array(results_real.get_counts()[n_depth*2-1:n_depth*3-1]))"
   ],
   "metadata": {
    "collapsed": false,
    "pycharm": {
     "name": "#%%\n"
    }
   }
  },
  {
   "cell_type": "code",
   "execution_count": 140,
   "outputs": [
    {
     "ename": "ValueError",
     "evalue": "x and y must have same first dimension, but have shapes (4,) and (5,)",
     "output_type": "error",
     "traceback": [
      "\u001B[0;31m---------------------------------------------------------------------------\u001B[0m",
      "\u001B[0;31mValueError\u001B[0m                                Traceback (most recent call last)",
      "\u001B[0;32m<ipython-input-140-ce16393740ce>\u001B[0m in \u001B[0;36m<module>\u001B[0;34m\u001B[0m\n\u001B[1;32m      4\u001B[0m \u001B[0mplt\u001B[0m\u001B[0;34m.\u001B[0m\u001B[0mrcParams\u001B[0m\u001B[0;34m.\u001B[0m\u001B[0mupdate\u001B[0m\u001B[0;34m(\u001B[0m\u001B[0;34m{\u001B[0m\u001B[0;34m'font.size'\u001B[0m\u001B[0;34m:\u001B[0m \u001B[0;36m22\u001B[0m\u001B[0;34m}\u001B[0m\u001B[0;34m)\u001B[0m\u001B[0;34m\u001B[0m\u001B[0;34m\u001B[0m\u001B[0m\n\u001B[1;32m      5\u001B[0m \u001B[0mplt\u001B[0m\u001B[0;34m.\u001B[0m\u001B[0mplot\u001B[0m\u001B[0;34m(\u001B[0m\u001B[0mdepth_vec\u001B[0m\u001B[0;34m,\u001B[0m \u001B[0mno_qec\u001B[0m\u001B[0;34m,\u001B[0m \u001B[0;34m'o-'\u001B[0m\u001B[0;34m,\u001B[0m \u001B[0mlabel\u001B[0m \u001B[0;34m=\u001B[0m\u001B[0;34m'Noiseless (simulation)'\u001B[0m\u001B[0;34m)\u001B[0m\u001B[0;34m\u001B[0m\u001B[0;34m\u001B[0m\u001B[0m\n\u001B[0;32m----> 6\u001B[0;31m \u001B[0mplt\u001B[0m\u001B[0;34m.\u001B[0m\u001B[0mplot\u001B[0m\u001B[0;34m(\u001B[0m\u001B[0mdepth_vec\u001B[0m\u001B[0;34m,\u001B[0m \u001B[0mqec_naive\u001B[0m\u001B[0;34m,\u001B[0m \u001B[0;34m'o-'\u001B[0m\u001B[0;34m,\u001B[0m \u001B[0mlabel\u001B[0m \u001B[0;34m=\u001B[0m\u001B[0;34m'Noiseless (simulation)'\u001B[0m\u001B[0;34m)\u001B[0m\u001B[0;34m\u001B[0m\u001B[0;34m\u001B[0m\u001B[0m\n\u001B[0m\u001B[1;32m      7\u001B[0m \u001B[0mplt\u001B[0m\u001B[0;34m.\u001B[0m\u001B[0mplot\u001B[0m\u001B[0;34m(\u001B[0m\u001B[0mdepth_vec\u001B[0m\u001B[0;34m,\u001B[0m \u001B[0mqec_opt\u001B[0m\u001B[0;34m,\u001B[0m \u001B[0;34m'o-'\u001B[0m\u001B[0;34m,\u001B[0m \u001B[0mlabel\u001B[0m \u001B[0;34m=\u001B[0m\u001B[0;34m'Noiseless (simulation)'\u001B[0m\u001B[0;34m)\u001B[0m\u001B[0;34m\u001B[0m\u001B[0;34m\u001B[0m\u001B[0m\n\u001B[1;32m      8\u001B[0m \u001B[0;34m\u001B[0m\u001B[0m\n",
      "\u001B[0;32m~/opt/anaconda3/lib/python3.8/site-packages/matplotlib/pyplot.py\u001B[0m in \u001B[0;36mplot\u001B[0;34m(scalex, scaley, data, *args, **kwargs)\u001B[0m\n\u001B[1;32m   2838\u001B[0m \u001B[0;34m@\u001B[0m\u001B[0m_copy_docstring_and_deprecators\u001B[0m\u001B[0;34m(\u001B[0m\u001B[0mAxes\u001B[0m\u001B[0;34m.\u001B[0m\u001B[0mplot\u001B[0m\u001B[0;34m)\u001B[0m\u001B[0;34m\u001B[0m\u001B[0;34m\u001B[0m\u001B[0m\n\u001B[1;32m   2839\u001B[0m \u001B[0;32mdef\u001B[0m \u001B[0mplot\u001B[0m\u001B[0;34m(\u001B[0m\u001B[0;34m*\u001B[0m\u001B[0margs\u001B[0m\u001B[0;34m,\u001B[0m \u001B[0mscalex\u001B[0m\u001B[0;34m=\u001B[0m\u001B[0;32mTrue\u001B[0m\u001B[0;34m,\u001B[0m \u001B[0mscaley\u001B[0m\u001B[0;34m=\u001B[0m\u001B[0;32mTrue\u001B[0m\u001B[0;34m,\u001B[0m \u001B[0mdata\u001B[0m\u001B[0;34m=\u001B[0m\u001B[0;32mNone\u001B[0m\u001B[0;34m,\u001B[0m \u001B[0;34m**\u001B[0m\u001B[0mkwargs\u001B[0m\u001B[0;34m)\u001B[0m\u001B[0;34m:\u001B[0m\u001B[0;34m\u001B[0m\u001B[0;34m\u001B[0m\u001B[0m\n\u001B[0;32m-> 2840\u001B[0;31m     return gca().plot(\n\u001B[0m\u001B[1;32m   2841\u001B[0m         \u001B[0;34m*\u001B[0m\u001B[0margs\u001B[0m\u001B[0;34m,\u001B[0m \u001B[0mscalex\u001B[0m\u001B[0;34m=\u001B[0m\u001B[0mscalex\u001B[0m\u001B[0;34m,\u001B[0m \u001B[0mscaley\u001B[0m\u001B[0;34m=\u001B[0m\u001B[0mscaley\u001B[0m\u001B[0;34m,\u001B[0m\u001B[0;34m\u001B[0m\u001B[0;34m\u001B[0m\u001B[0m\n\u001B[1;32m   2842\u001B[0m         **({\"data\": data} if data is not None else {}), **kwargs)\n",
      "\u001B[0;32m~/opt/anaconda3/lib/python3.8/site-packages/matplotlib/axes/_axes.py\u001B[0m in \u001B[0;36mplot\u001B[0;34m(self, scalex, scaley, data, *args, **kwargs)\u001B[0m\n\u001B[1;32m   1741\u001B[0m         \"\"\"\n\u001B[1;32m   1742\u001B[0m         \u001B[0mkwargs\u001B[0m \u001B[0;34m=\u001B[0m \u001B[0mcbook\u001B[0m\u001B[0;34m.\u001B[0m\u001B[0mnormalize_kwargs\u001B[0m\u001B[0;34m(\u001B[0m\u001B[0mkwargs\u001B[0m\u001B[0;34m,\u001B[0m \u001B[0mmlines\u001B[0m\u001B[0;34m.\u001B[0m\u001B[0mLine2D\u001B[0m\u001B[0;34m)\u001B[0m\u001B[0;34m\u001B[0m\u001B[0;34m\u001B[0m\u001B[0m\n\u001B[0;32m-> 1743\u001B[0;31m         \u001B[0mlines\u001B[0m \u001B[0;34m=\u001B[0m \u001B[0;34m[\u001B[0m\u001B[0;34m*\u001B[0m\u001B[0mself\u001B[0m\u001B[0;34m.\u001B[0m\u001B[0m_get_lines\u001B[0m\u001B[0;34m(\u001B[0m\u001B[0;34m*\u001B[0m\u001B[0margs\u001B[0m\u001B[0;34m,\u001B[0m \u001B[0mdata\u001B[0m\u001B[0;34m=\u001B[0m\u001B[0mdata\u001B[0m\u001B[0;34m,\u001B[0m \u001B[0;34m**\u001B[0m\u001B[0mkwargs\u001B[0m\u001B[0;34m)\u001B[0m\u001B[0;34m]\u001B[0m\u001B[0;34m\u001B[0m\u001B[0;34m\u001B[0m\u001B[0m\n\u001B[0m\u001B[1;32m   1744\u001B[0m         \u001B[0;32mfor\u001B[0m \u001B[0mline\u001B[0m \u001B[0;32min\u001B[0m \u001B[0mlines\u001B[0m\u001B[0;34m:\u001B[0m\u001B[0;34m\u001B[0m\u001B[0;34m\u001B[0m\u001B[0m\n\u001B[1;32m   1745\u001B[0m             \u001B[0mself\u001B[0m\u001B[0;34m.\u001B[0m\u001B[0madd_line\u001B[0m\u001B[0;34m(\u001B[0m\u001B[0mline\u001B[0m\u001B[0;34m)\u001B[0m\u001B[0;34m\u001B[0m\u001B[0;34m\u001B[0m\u001B[0m\n",
      "\u001B[0;32m~/opt/anaconda3/lib/python3.8/site-packages/matplotlib/axes/_base.py\u001B[0m in \u001B[0;36m__call__\u001B[0;34m(self, data, *args, **kwargs)\u001B[0m\n\u001B[1;32m    271\u001B[0m                 \u001B[0mthis\u001B[0m \u001B[0;34m+=\u001B[0m \u001B[0margs\u001B[0m\u001B[0;34m[\u001B[0m\u001B[0;36m0\u001B[0m\u001B[0;34m]\u001B[0m\u001B[0;34m,\u001B[0m\u001B[0;34m\u001B[0m\u001B[0;34m\u001B[0m\u001B[0m\n\u001B[1;32m    272\u001B[0m                 \u001B[0margs\u001B[0m \u001B[0;34m=\u001B[0m \u001B[0margs\u001B[0m\u001B[0;34m[\u001B[0m\u001B[0;36m1\u001B[0m\u001B[0;34m:\u001B[0m\u001B[0;34m]\u001B[0m\u001B[0;34m\u001B[0m\u001B[0;34m\u001B[0m\u001B[0m\n\u001B[0;32m--> 273\u001B[0;31m             \u001B[0;32myield\u001B[0m \u001B[0;32mfrom\u001B[0m \u001B[0mself\u001B[0m\u001B[0;34m.\u001B[0m\u001B[0m_plot_args\u001B[0m\u001B[0;34m(\u001B[0m\u001B[0mthis\u001B[0m\u001B[0;34m,\u001B[0m \u001B[0mkwargs\u001B[0m\u001B[0;34m)\u001B[0m\u001B[0;34m\u001B[0m\u001B[0;34m\u001B[0m\u001B[0m\n\u001B[0m\u001B[1;32m    274\u001B[0m \u001B[0;34m\u001B[0m\u001B[0m\n\u001B[1;32m    275\u001B[0m     \u001B[0;32mdef\u001B[0m \u001B[0mget_next_color\u001B[0m\u001B[0;34m(\u001B[0m\u001B[0mself\u001B[0m\u001B[0;34m)\u001B[0m\u001B[0;34m:\u001B[0m\u001B[0;34m\u001B[0m\u001B[0;34m\u001B[0m\u001B[0m\n",
      "\u001B[0;32m~/opt/anaconda3/lib/python3.8/site-packages/matplotlib/axes/_base.py\u001B[0m in \u001B[0;36m_plot_args\u001B[0;34m(self, tup, kwargs)\u001B[0m\n\u001B[1;32m    397\u001B[0m \u001B[0;34m\u001B[0m\u001B[0m\n\u001B[1;32m    398\u001B[0m         \u001B[0;32mif\u001B[0m \u001B[0mx\u001B[0m\u001B[0;34m.\u001B[0m\u001B[0mshape\u001B[0m\u001B[0;34m[\u001B[0m\u001B[0;36m0\u001B[0m\u001B[0;34m]\u001B[0m \u001B[0;34m!=\u001B[0m \u001B[0my\u001B[0m\u001B[0;34m.\u001B[0m\u001B[0mshape\u001B[0m\u001B[0;34m[\u001B[0m\u001B[0;36m0\u001B[0m\u001B[0;34m]\u001B[0m\u001B[0;34m:\u001B[0m\u001B[0;34m\u001B[0m\u001B[0;34m\u001B[0m\u001B[0m\n\u001B[0;32m--> 399\u001B[0;31m             raise ValueError(f\"x and y must have same first dimension, but \"\n\u001B[0m\u001B[1;32m    400\u001B[0m                              f\"have shapes {x.shape} and {y.shape}\")\n\u001B[1;32m    401\u001B[0m         \u001B[0;32mif\u001B[0m \u001B[0mx\u001B[0m\u001B[0;34m.\u001B[0m\u001B[0mndim\u001B[0m \u001B[0;34m>\u001B[0m \u001B[0;36m2\u001B[0m \u001B[0;32mor\u001B[0m \u001B[0my\u001B[0m\u001B[0;34m.\u001B[0m\u001B[0mndim\u001B[0m \u001B[0;34m>\u001B[0m \u001B[0;36m2\u001B[0m\u001B[0;34m:\u001B[0m\u001B[0;34m\u001B[0m\u001B[0;34m\u001B[0m\u001B[0m\n",
      "\u001B[0;31mValueError\u001B[0m: x and y must have same first dimension, but have shapes (4,) and (5,)"
     ]
    },
    {
     "data": {
      "text/plain": "<Figure size 864x576 with 1 Axes>",
      "image/png": "[encoded data removed]"
     },
     "metadata": {
      "needs_background": "light"
     },
     "output_type": "display_data"
    }
   ],
   "source": [
    "import math\n",
    "\n",
    "plt.figure(figsize=(12,8))\n",
    "plt.rcParams.update({'font.size': 22})\n",
    "plt.plot(depth_vec, no_qec, 'o-', label ='Noiseless (simulation)')\n",
    "plt.plot(depth_vec, qec_naive, 'o-', label ='Noiseless (simulation)')\n",
    "plt.plot(depth_vec, qec_opt, 'o-', label ='Noiseless (simulation)')\n",
    "\n",
    "plt.grid(which='major',axis='both')\n",
    "plt.rcParams.update({'font.size': 16})\n",
    "plt.legend()\n",
    "\n",
    "# plt.xlabel('Theta between chosen bases (radians)')\n",
    "# plt.ylabel('Probability for same outcome for both qubits')"
   ],
   "metadata": {
    "collapsed": false,
    "pycharm": {
     "name": "#%%\n"
    }
   }
  },
  {
   "cell_type": "raw",
   "source": [
    "Run on real device:"
   ],
   "metadata": {
    "collapsed": false
   }
  }
 ],
 "metadata": {
  "kernelspec": {
   "display_name": "Python 3",
   "language": "python",
   "name": "python3"
  },
  "language_info": {
   "codemirror_mode": {
    "name": "ipython",
    "version": 2
   },
   "file_extension": ".py",
   "mimetype": "text/x-python",
   "name": "python",
   "nbconvert_exporter": "python",
   "pygments_lexer": "ipython2",
   "version": "2.7.6"
  }
 },
 "nbformat": 4,
 "nbformat_minor": 0
}